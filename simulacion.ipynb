{
 "cells": [
  {
   "cell_type": "markdown",
   "id": "9f5c18db",
   "metadata": {},
   "source": [
    "importo los numeros pseudo aleatorios\n"
   ]
  },
  {
   "cell_type": "code",
   "execution_count": 1,
   "id": "dec03129",
   "metadata": {},
   "outputs": [],
   "source": [
    "import pandas as pd\n",
    "import tkinter as tk\n",
    "from tkinter import filedialog\n",
    "\n",
    "\n",
    "\n",
    "\n",
    "# Ocultar la ventana principal de tkinter\n",
    "root = tk.Tk()\n",
    "root.withdraw()\n",
    "\n",
    "# Abrir el diálogo para seleccionar archivo\n",
    "file_path = filedialog.askopenfilename(\n",
    "    title=\"Selecciona el archivo de números pseudoaleatorios\",\n",
    "    filetypes=[(\"Archivos CSV\", \"*.csv\"), (\"Todos los archivos\", \"*.*\")]\n",
    ")\n",
    "\n",
    "# Verificar si se seleccionó un archivo\n",
    "if file_path:\n",
    "    # Cargar el archivo en un DataFrame\n",
    "    df = pd.read_csv(file_path)\n",
    "\n",
    "    numeros = df[\"N-pseudoaletorios-Normalisados\"].values\n",
    "    \n",
    "\n",
    "else:\n",
    "    print(\"No se seleccionó ningún archivo\")\n"
   ]
  },
  {
   "cell_type": "markdown",
   "id": "f0250bdd",
   "metadata": {},
   "source": [
    "creamos la funcione papa valores de las variables"
   ]
  },
  {
   "cell_type": "code",
   "execution_count": 2,
   "id": "c26b2ae2",
   "metadata": {},
   "outputs": [],
   "source": [
    "#MOCKUP HARDCODEADO FALTA DEFINIR LA FUNCION QUE GENERA LOS ARRIVOS\n",
    "from scipy.stats import norm\n",
    "\n",
    "def generar_intevalo_arribos(numero_aleatorio):\n",
    "    \"\"\"\n",
    "    Genera una lista de n números pseudoaleatorios a partir de un número dado.\n",
    "    \"\"\"\n",
    "    tiempo = norm.ppf(numero_aleatorio, 13.5, 2.86)\n",
    "    \n",
    "    return tiempo\n",
    "    \n",
    "    \n",
    "\n"
   ]
  },
  {
   "cell_type": "code",
   "execution_count": 3,
   "id": "5b2209e0",
   "metadata": {},
   "outputs": [],
   "source": [
    "\n",
    "from scipy.stats import norm\n",
    "\n",
    "def generar_tiempo_indicacion(numero_pseudoaleatorio):\n",
    "    \"\"\"\n",
    "    Genera un tiempo de indicacion aleatorio basado en los números pseudoaleatorios normalizados.\n",
    "    \"\"\"\n",
    "    tiempo = norm.ppf(numero_pseudoaleatorio, 51.7, 21.1)\n",
    "    return tiempo\n"
   ]
  },
  {
   "cell_type": "code",
   "execution_count": 4,
   "id": "3eb216ed",
   "metadata": {},
   "outputs": [],
   "source": [
    "def generar_tiempo_rutina(numero_pseudoaleatorio):\n",
    "    \"\"\"\n",
    "    Genera un tiempo de rutina aleatorio basado en los números pseudoaleatorios normalizados.\n",
    "    \"\"\"\n",
    "    tiempo = 10.28 + 18.17 * numero_pseudoaleatorio\n",
    "\n",
    "    return tiempo"
   ]
  },
  {
   "cell_type": "markdown",
   "id": "a4dfff96",
   "metadata": {},
   "source": [
    "SIMULACIOM"
   ]
  },
  {
   "cell_type": "code",
   "execution_count": 5,
   "id": "58b634c7",
   "metadata": {},
   "outputs": [],
   "source": [
    "def simular_dia_tiempo_espera(numeros_aleatorios, cantidad_personas):\n",
    "    \n",
    "    lista_eventos = []\n",
    "    for i in range(cantidad_personas):\n",
    "        numero_aleatorio = numeros_aleatorios[i]\n",
    "        tiempo_arribo = generar_intevalo_arribos(numero_aleatorio)\n",
    "        numeros_aleatorios = numeros_aleatorios[1:]  \n",
    "\n",
    "        persona = [tiempo_arribo,3]\n",
    "        lista_eventos.append(persona)\n",
    "    \n",
    "    # arracar simulación\n",
    "    tiempo = 0 \n",
    "    tiempo_final = 120  # 8 horas en minutos\n",
    "    tiempo_entrenador = 0\n",
    "    tiempo_espera_total = 0\n",
    "    N  =    0\n",
    "\n",
    "    while tiempo < tiempo_final and len(numeros_aleatorios) > 4:\n",
    "        \n",
    "        # Ordenar eventos por tiempo de arribo\n",
    "        lista_eventos.sort(key=lambda x: x[0])\n",
    "        \n",
    "        # Tomar el primer evento\n",
    "        evento = lista_eventos.pop(0)\n",
    "        tiempo_arribo, cant_ejercicios = evento\n",
    "        \n",
    "        tiempo = tiempo_arribo\n",
    "\n",
    "        if tiempo >= tiempo_entrenador:\n",
    "\n",
    "            tiempo_inicio_atencion = tiempo\n",
    "\n",
    "            tiempo_de_espera = 0\n",
    "\n",
    "        else:\n",
    "            tiempo_de_espera = tiempo_entrenador - tiempo\n",
    "\n",
    "            tiempo_inicio_atencion = tiempo_entrenador\n",
    "\n",
    "        tiempo_espera_total += tiempo_de_espera\n",
    "\n",
    "        N += 1\n",
    "\n",
    "        tiempo_indicacion = generar_tiempo_indicacion(numeros_aleatorios[0])\n",
    "        numeros_aleatorios = numeros_aleatorios[1:]  # Eliminar el primer\n",
    "        tiempo_entrenador = tiempo_indicacion + tiempo_inicio_atencion\n",
    "        tiempo_rutina = generar_tiempo_rutina(numeros_aleatorios[0])\n",
    "        numeros_aleatorios = numeros_aleatorios[1:]  # Eliminar el primer\n",
    "\n",
    "        if cant_ejercicios  == 1:\n",
    "\n",
    "            tiempo_arribo = generar_intevalo_arribos(numeros_aleatorios[0])\n",
    "            numeros_aleatorios = numeros_aleatorios[1:]\n",
    "            lista_eventos.append([tiempo_arribo, 3])\n",
    "\n",
    "        else:\n",
    "            prox_tiempo = tiempo + tiempo_de_espera + tiempo_indicacion + tiempo_rutina \n",
    "            lista_eventos.append([ prox_tiempo, cant_ejercicios - 1])\n",
    "            \n",
    "    print(f\"Tiempo de espera total: {tiempo_espera_total} minutos\")\n",
    "    print(f\"Número de personas atendidas: {N}\")\n",
    "    print(f\"Tiempo promedio de espera: {tiempo_espera_total/N} minutos\")\n",
    "\n",
    "    return tiempo_espera_total / N\n",
    "\n",
    "    "
   ]
  },
  {
   "cell_type": "code",
   "execution_count": null,
   "id": "de3ac472",
   "metadata": {},
   "outputs": [
    {
     "name": "stdout",
     "output_type": "stream",
     "text": [
      "Tiempo de espera total: 3567.4663795436068 minutos\n",
      "Número de personas atendidas: 12\n",
      "Tiempo promedio de espera: 297.28886496196725 minutos\n"
     ]
    },
    {
     "data": {
      "text/plain": [
       "np.float64(297.28886496196725)"
      ]
     },
     "execution_count": 6,
     "metadata": {},
     "output_type": "execute_result"
    }
   ],
   "source": [
    "#simular\n",
    "\n",
    "simular_dia_tiempo_espera(numeros, 10)"
   ]
  },
  {
   "cell_type": "code",
   "execution_count": 7,
   "id": "a095eb25",
   "metadata": {},
   "outputs": [
    {
     "name": "stdout",
     "output_type": "stream",
     "text": [
      "Tiempo de espera total: 5338.7029309826285 minutos\n",
      "Número de personas atendidas: 15\n",
      "Tiempo promedio de espera: 355.9135287321752 minutos\n"
     ]
    },
    {
     "data": {
      "text/plain": [
       "np.float64(355.9135287321752)"
      ]
     },
     "execution_count": 7,
     "metadata": {},
     "output_type": "execute_result"
    }
   ],
   "source": [
    "simular_dia_tiempo_espera(numeros, 12)"
   ]
  },
  {
   "cell_type": "code",
   "execution_count": 8,
   "id": "9fd07dc7",
   "metadata": {},
   "outputs": [
    {
     "name": "stdout",
     "output_type": "stream",
     "text": [
      "Tiempo de espera total: 8396.82255524053 minutos\n",
      "Número de personas atendidas: 18\n",
      "Tiempo promedio de espera: 466.49014195780717 minutos\n"
     ]
    },
    {
     "data": {
      "text/plain": [
       "np.float64(466.49014195780717)"
      ]
     },
     "execution_count": 8,
     "metadata": {},
     "output_type": "execute_result"
    }
   ],
   "source": [
    "simular_dia_tiempo_espera(numeros, 16)"
   ]
  }
 ],
 "metadata": {
  "kernelspec": {
   "display_name": "env",
   "language": "python",
   "name": "python3"
  },
  "language_info": {
   "codemirror_mode": {
    "name": "ipython",
    "version": 3
   },
   "file_extension": ".py",
   "mimetype": "text/x-python",
   "name": "python",
   "nbconvert_exporter": "python",
   "pygments_lexer": "ipython3",
   "version": "3.13.1"
  }
 },
 "nbformat": 4,
 "nbformat_minor": 5
}
