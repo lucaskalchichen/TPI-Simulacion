{
 "cells": [
  {
   "cell_type": "markdown",
   "id": "9f5c18db",
   "metadata": {},
   "source": [
    "importo los numeros pseudo aleatorios\n"
   ]
  },
  {
   "cell_type": "code",
   "execution_count": null,
   "id": "dec03129",
   "metadata": {},
   "outputs": [
    {
     "name": "stdout",
     "output_type": "stream",
     "text": [
      "No se seleccionó ningún archivo\n"
     ]
    },
    {
     "ename": "",
     "evalue": "",
     "output_type": "error",
     "traceback": [
      "\u001b[1;31mThe Kernel crashed while executing code in the current cell or a previous cell. \n",
      "\u001b[1;31mPlease review the code in the cell(s) to identify a possible cause of the failure. \n",
      "\u001b[1;31mClick <a href='https://aka.ms/vscodeJupyterKernelCrash'>here</a> for more info. \n",
      "\u001b[1;31mView Jupyter <a href='command:jupyter.viewOutput'>log</a> for further details."
     ]
    }
   ],
   "source": [
    "import pandas as pd\n",
    "import tkinter as tk\n",
    "from tkinter import filedialog\n",
    "\n",
    "\n",
    "\n",
    "\n",
    "# Ocultar la ventana principal de tkinter\n",
    "root = tk.Tk()\n",
    "root.withdraw()\n",
    "\n",
    "# Abrir el diálogo para seleccionar archivo\n",
    "file_path = filedialog.askopenfilename(\n",
    "    title=\"Selecciona el archivo de números pseudoaleatorios\",\n",
    "    filetypes=[(\"Archivos CSV\", \"*.csv\"), (\"Todos los archivos\", \"*.*\")]\n",
    ")\n",
    "\n",
    "# Verificar si se seleccionó un archivo\n",
    "if file_path:\n",
    "    # Cargar el archivo en un DataFrame\n",
    "    df = pd.read_csv(file_path)\n",
    "\n",
    "    numeros = df[\"N-pseudoaletorios-Normalisados\"].values\n",
    "    \n",
    "\n",
    "else:\n",
    "    print(\"No se seleccionó ningún archivo\")\n"
   ]
  },
  {
   "cell_type": "markdown",
   "id": "f0250bdd",
   "metadata": {},
   "source": [
    "creamos la funcione papa valores de las variables"
   ]
  },
  {
   "cell_type": "code",
   "execution_count": null,
   "id": "c26b2ae2",
   "metadata": {},
   "outputs": [],
   "source": [
    "#MOCKUP HARDCODEADO FALTA DEFINIR LA FUNCION QUE GENERA LOS ARRIVOS\n",
    "\n",
    "def generar_arrivos(numero_aleatorio, lista ):\n",
    "    \"\"\"\n",
    "    Genera una lista de n números pseudoaleatorios a partir de un número dado.\n",
    "    \"\"\"\n",
    "    cant_gente = len(lista)\n",
    "    if cant_gente <= 10:\n",
    "        return 4 , 5 # tiempo de arrivo , ejercicios que hacer\n",
    "    else:\n",
    "        return 999999\n",
    "\n"
   ]
  },
  {
   "cell_type": "code",
   "execution_count": null,
   "id": "5b2209e0",
   "metadata": {},
   "outputs": [],
   "source": [
    "\n",
    "from scipy.stats import norm\n",
    "\n",
    "def generar_tiempo_indicacion(numero_pseudoaleatorio):\n",
    "    \"\"\"\n",
    "    Genera un tiempo de indicacion aleatorio basado en los números pseudoaleatorios normalizados.\n",
    "    \"\"\"\n",
    "    tiempo = norm.ppf(numero_pseudoaleatorio, 51.7, 21.1)\n",
    "    return tiempo\n"
   ]
  },
  {
   "cell_type": "code",
   "execution_count": null,
   "id": "3eb216ed",
   "metadata": {},
   "outputs": [],
   "source": [
    "def generar_tiempo_rutina(numero_pseudoaleatorio):\n",
    "    \"\"\"\n",
    "    Genera un tiempo de rutina aleatorio basado en los números pseudoaleatorios normalizados.\n",
    "    \"\"\"\n",
    "    tiempo = 10.28 + 18.17 * numero_pseudoaleatorio\n",
    "\n",
    "    return tiempo"
   ]
  },
  {
   "cell_type": "markdown",
   "id": "a4dfff96",
   "metadata": {},
   "source": [
    "SIMULACIOM"
   ]
  },
  {
   "cell_type": "code",
   "execution_count": null,
   "id": "58b634c7",
   "metadata": {},
   "outputs": [],
   "source": [
    "def simular_arrivos(numeros):\n",
    "   \n",
    "    tiempo_eventos = [1, 2, 3, 4, 5, 6] # Ejemplo de tiempos de eventos\n",
    "    t0 = 0 # Tiempo inicial de la simulación \n",
    "    t_final = 1000  # Tiempo final de la simulación \n",
    "    t = t0\n",
    "    while t <= t_final:\n",
    "        # Generar el número de arrivos\n",
    "\n",
    "        t \n",
    "        n_arrivos, n_ejercicios = generar_arrivos(numero, gente_gym)\n",
    "\n",
    "        gente_gym.append((t, n_arrivos, n_ejercicios))\n",
    "\n",
    "        if t0\n",
    "\n",
    "       \n",
    "            \n",
    "        # Generar los tiempos de indicación y rutina\n",
    "        tiempos_indicacion = [generar_tiempo_indicacion(numero) for _ in range(n_arrivos)]\n",
    "        tiempos_rutina = [generar_tiempo_rutina(numero) for _ in range(n_arrivos)]\n",
    "        \n",
    "        # Agregar los nuevos arrivos a la lista\n",
    "        gente_gym.extend(zip(tiempos_indicacion, tiempos_rutina))\n",
    "    \n",
    "    return gente_gym"
   ]
  },
  {
   "cell_type": "markdown",
   "id": "4facc6a1",
   "metadata": {},
   "source": []
  }
 ],
 "metadata": {
  "kernelspec": {
   "display_name": "env",
   "language": "python",
   "name": "python3"
  },
  "language_info": {
   "codemirror_mode": {
    "name": "ipython",
    "version": 3
   },
   "file_extension": ".py",
   "mimetype": "text/x-python",
   "name": "python",
   "nbconvert_exporter": "python",
   "pygments_lexer": "ipython3",
   "version": "3.13.1"
  }
 },
 "nbformat": 4,
 "nbformat_minor": 5
}
